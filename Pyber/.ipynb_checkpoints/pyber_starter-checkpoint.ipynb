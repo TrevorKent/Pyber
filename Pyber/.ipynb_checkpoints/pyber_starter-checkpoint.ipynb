{
 "cells": [
  {
   "cell_type": "code",
   "execution_count": 77,
   "metadata": {},
   "outputs": [
    {
     "name": "stdout",
     "output_type": "stream",
     "text": [
      "Using matplotlib backend: Qt5Agg\n"
     ]
    },
    {
     "data": {
      "text/html": [
       "<div>\n",
       "<style scoped>\n",
       "    .dataframe tbody tr th:only-of-type {\n",
       "        vertical-align: middle;\n",
       "    }\n",
       "\n",
       "    .dataframe tbody tr th {\n",
       "        vertical-align: top;\n",
       "    }\n",
       "\n",
       "    .dataframe thead th {\n",
       "        text-align: right;\n",
       "    }\n",
       "</style>\n",
       "<table border=\"1\" class=\"dataframe\">\n",
       "  <thead>\n",
       "    <tr style=\"text-align: right;\">\n",
       "      <th></th>\n",
       "      <th>city</th>\n",
       "      <th>date</th>\n",
       "      <th>fare</th>\n",
       "      <th>ride_id</th>\n",
       "      <th>driver_count</th>\n",
       "      <th>type</th>\n",
       "      <th>color</th>\n",
       "    </tr>\n",
       "  </thead>\n",
       "  <tbody>\n",
       "    <tr>\n",
       "      <th>0</th>\n",
       "      <td>Lake Jonathanshire</td>\n",
       "      <td>2018-01-14 10:14:22</td>\n",
       "      <td>13.83</td>\n",
       "      <td>5739410935873</td>\n",
       "      <td>5</td>\n",
       "      <td>Urban</td>\n",
       "      <td>red</td>\n",
       "    </tr>\n",
       "    <tr>\n",
       "      <th>1</th>\n",
       "      <td>South Michelleport</td>\n",
       "      <td>2018-03-04 18:24:09</td>\n",
       "      <td>30.24</td>\n",
       "      <td>2343912425577</td>\n",
       "      <td>72</td>\n",
       "      <td>Urban</td>\n",
       "      <td>red</td>\n",
       "    </tr>\n",
       "    <tr>\n",
       "      <th>2</th>\n",
       "      <td>Port Samanthamouth</td>\n",
       "      <td>2018-02-24 04:29:00</td>\n",
       "      <td>33.44</td>\n",
       "      <td>2005065760003</td>\n",
       "      <td>57</td>\n",
       "      <td>Urban</td>\n",
       "      <td>red</td>\n",
       "    </tr>\n",
       "    <tr>\n",
       "      <th>3</th>\n",
       "      <td>Rodneyfort</td>\n",
       "      <td>2018-02-10 23:22:03</td>\n",
       "      <td>23.44</td>\n",
       "      <td>5149245426178</td>\n",
       "      <td>34</td>\n",
       "      <td>Urban</td>\n",
       "      <td>red</td>\n",
       "    </tr>\n",
       "    <tr>\n",
       "      <th>4</th>\n",
       "      <td>South Jack</td>\n",
       "      <td>2018-03-06 04:28:35</td>\n",
       "      <td>34.58</td>\n",
       "      <td>3908451377344</td>\n",
       "      <td>46</td>\n",
       "      <td>Urban</td>\n",
       "      <td>red</td>\n",
       "    </tr>\n",
       "  </tbody>\n",
       "</table>\n",
       "</div>"
      ],
      "text/plain": [
       "                 city                 date   fare        ride_id  \\\n",
       "0  Lake Jonathanshire  2018-01-14 10:14:22  13.83  5739410935873   \n",
       "1  South Michelleport  2018-03-04 18:24:09  30.24  2343912425577   \n",
       "2  Port Samanthamouth  2018-02-24 04:29:00  33.44  2005065760003   \n",
       "3          Rodneyfort  2018-02-10 23:22:03  23.44  5149245426178   \n",
       "4          South Jack  2018-03-06 04:28:35  34.58  3908451377344   \n",
       "\n",
       "   driver_count   type color  \n",
       "0             5  Urban   red  \n",
       "1            72  Urban   red  \n",
       "2            57  Urban   red  \n",
       "3            34  Urban   red  \n",
       "4            46  Urban   red  "
      ]
     },
     "execution_count": 77,
     "metadata": {},
     "output_type": "execute_result"
    }
   ],
   "source": [
    "%matplotlib\n",
    "# Dependencies and Setup\n",
    "import matplotlib.pyplot as plt\n",
    "import pandas as pd\n",
    "import numpy as np\n",
    "\n",
    "# File to Load (Remember to change these)\n",
    "city_data_to_load = \"data/city_data.csv\"\n",
    "ride_data_to_load = \"data/ride_data.csv\"\n",
    "\n",
    "# Read the City and Ride Data\n",
    "city_data = pd.read_csv(city_data_to_load)\n",
    "ride_data = pd.read_csv(ride_data_to_load)\n",
    "\n",
    "# Combine the data into a single dataset\n",
    "pyber_data = pd.merge(ride_data, city_data, how=\"left\", on=[\"city\", \"city\"])\n",
    "\n",
    "# Display the data table for preview\n",
    "pyber_data.head()"
   ]
  },
  {
   "cell_type": "code",
   "execution_count": 78,
   "metadata": {
    "scrolled": true
   },
   "outputs": [
    {
     "data": {
      "text/plain": [
       "city            2375\n",
       "date            2375\n",
       "fare            2375\n",
       "ride_id         2375\n",
       "driver_count    2375\n",
       "type            2375\n",
       "color           2375\n",
       "dtype: int64"
      ]
     },
     "execution_count": 78,
     "metadata": {},
     "output_type": "execute_result"
    }
   ],
   "source": [
    "# Let's check for any missing variables\n",
    "pyber_data.count()\n",
    "\n",
    "# Nothing to worry about - all values represented"
   ]
  },
  {
   "cell_type": "code",
   "execution_count": 79,
   "metadata": {},
   "outputs": [],
   "source": [
    "# let's confirm data startistics\n",
    "# pyber_data.describe()\n",
    "\n",
    "# Average fare = $26.75, Avg. Driver count = 30"
   ]
  },
  {
   "cell_type": "code",
   "execution_count": 80,
   "metadata": {},
   "outputs": [],
   "source": [
    "# Let's confirm data types\n",
    "# pyber_data.dtypes"
   ]
  },
  {
   "cell_type": "code",
   "execution_count": 81,
   "metadata": {
    "scrolled": true
   },
   "outputs": [
    {
     "data": {
      "text/html": [
       "<div>\n",
       "<style scoped>\n",
       "    .dataframe tbody tr th:only-of-type {\n",
       "        vertical-align: middle;\n",
       "    }\n",
       "\n",
       "    .dataframe tbody tr th {\n",
       "        vertical-align: top;\n",
       "    }\n",
       "\n",
       "    .dataframe thead th {\n",
       "        text-align: right;\n",
       "    }\n",
       "</style>\n",
       "<table border=\"1\" class=\"dataframe\">\n",
       "  <thead>\n",
       "    <tr style=\"text-align: right;\">\n",
       "      <th></th>\n",
       "      <th>type</th>\n",
       "      <th>city</th>\n",
       "      <th>fare</th>\n",
       "      <th>driver_count</th>\n",
       "      <th>color</th>\n",
       "    </tr>\n",
       "  </thead>\n",
       "  <tbody>\n",
       "    <tr>\n",
       "      <th>0</th>\n",
       "      <td>Urban</td>\n",
       "      <td>Lake Jonathanshire</td>\n",
       "      <td>13.83</td>\n",
       "      <td>5</td>\n",
       "      <td>red</td>\n",
       "    </tr>\n",
       "    <tr>\n",
       "      <th>1</th>\n",
       "      <td>Urban</td>\n",
       "      <td>South Michelleport</td>\n",
       "      <td>30.24</td>\n",
       "      <td>72</td>\n",
       "      <td>red</td>\n",
       "    </tr>\n",
       "    <tr>\n",
       "      <th>2</th>\n",
       "      <td>Urban</td>\n",
       "      <td>Port Samanthamouth</td>\n",
       "      <td>33.44</td>\n",
       "      <td>57</td>\n",
       "      <td>red</td>\n",
       "    </tr>\n",
       "    <tr>\n",
       "      <th>3</th>\n",
       "      <td>Urban</td>\n",
       "      <td>Rodneyfort</td>\n",
       "      <td>23.44</td>\n",
       "      <td>34</td>\n",
       "      <td>red</td>\n",
       "    </tr>\n",
       "    <tr>\n",
       "      <th>4</th>\n",
       "      <td>Urban</td>\n",
       "      <td>South Jack</td>\n",
       "      <td>34.58</td>\n",
       "      <td>46</td>\n",
       "      <td>red</td>\n",
       "    </tr>\n",
       "    <tr>\n",
       "      <th>5</th>\n",
       "      <td>Urban</td>\n",
       "      <td>South Latoya</td>\n",
       "      <td>9.52</td>\n",
       "      <td>10</td>\n",
       "      <td>red</td>\n",
       "    </tr>\n",
       "    <tr>\n",
       "      <th>6</th>\n",
       "      <td>Urban</td>\n",
       "      <td>New Paulville</td>\n",
       "      <td>43.25</td>\n",
       "      <td>44</td>\n",
       "      <td>red</td>\n",
       "    </tr>\n",
       "    <tr>\n",
       "      <th>7</th>\n",
       "      <td>Urban</td>\n",
       "      <td>Simpsonburgh</td>\n",
       "      <td>35.98</td>\n",
       "      <td>21</td>\n",
       "      <td>red</td>\n",
       "    </tr>\n",
       "    <tr>\n",
       "      <th>8</th>\n",
       "      <td>Urban</td>\n",
       "      <td>South Karenland</td>\n",
       "      <td>35.09</td>\n",
       "      <td>4</td>\n",
       "      <td>red</td>\n",
       "    </tr>\n",
       "    <tr>\n",
       "      <th>9</th>\n",
       "      <td>Urban</td>\n",
       "      <td>North Jasmine</td>\n",
       "      <td>42.81</td>\n",
       "      <td>33</td>\n",
       "      <td>red</td>\n",
       "    </tr>\n",
       "  </tbody>\n",
       "</table>\n",
       "</div>"
      ],
      "text/plain": [
       "    type                city   fare  driver_count color\n",
       "0  Urban  Lake Jonathanshire  13.83             5   red\n",
       "1  Urban  South Michelleport  30.24            72   red\n",
       "2  Urban  Port Samanthamouth  33.44            57   red\n",
       "3  Urban          Rodneyfort  23.44            34   red\n",
       "4  Urban          South Jack  34.58            46   red\n",
       "5  Urban        South Latoya   9.52            10   red\n",
       "6  Urban       New Paulville  43.25            44   red\n",
       "7  Urban        Simpsonburgh  35.98            21   red\n",
       "8  Urban     South Karenland  35.09             4   red\n",
       "9  Urban       North Jasmine  42.81            33   red"
      ]
     },
     "execution_count": 81,
     "metadata": {},
     "output_type": "execute_result"
    }
   ],
   "source": [
    "# Remove unwanted columns\n",
    "pdr_df = pyber_data.loc[:, [\"type\", \"city\", \"fare\", \"driver_count\", \"color\"]]\n",
    "pdr_df.head(10)"
   ]
  },
  {
   "cell_type": "code",
   "execution_count": 82,
   "metadata": {},
   "outputs": [],
   "source": [
    "# Filter on City type\n",
    "urban_cities = pdr_df[pdr_df[\"type\"]==\"Urban\"]\n",
    "suburban_cities = pdr_df[pdr_df[\"type\"]==\"Suburban\"]\n",
    "rural_cities = pdr_df[pdr_df[\"type\"]==\"Rural\"]\n"
   ]
  },
  {
   "cell_type": "code",
   "execution_count": 83,
   "metadata": {},
   "outputs": [],
   "source": [
    "# Calc number of rides per city type\n",
    "total_urban_rides = urban_cities.groupby([\"city\"]).count()[\"fare\"]\n",
    "total_suburban_rides = suburban_cities.groupby([\"city\"]).count()[\"fare\"]\n",
    "total_rural_rides = rural_cities.groupby([\"city\"]).count()[\"fare\"]\n"
   ]
  },
  {
   "cell_type": "code",
   "execution_count": 84,
   "metadata": {},
   "outputs": [],
   "source": [
    "# Calculate avg. fare per city type    \n",
    "total_urban_fares = urban_cities.groupby([\"city\"]).mean()[\"fare\"]\n",
    "total_suburban_fares = suburban_cities.groupby([\"city\"]).mean()[\"fare\"]\n",
    "total_rural_fares = rural_cities.groupby([\"city\"]).mean()[\"fare\"]\n"
   ]
  },
  {
   "cell_type": "code",
   "execution_count": 85,
   "metadata": {},
   "outputs": [],
   "source": [
    "# Calculate total driver counts per city type\n",
    "total_urban_drivers = urban_cities.groupby([\"city\"]).max()[\"driver_count\"]\n",
    "total_suburban_drivers = suburban_cities.groupby([\"city\"]).max()[\"driver_count\"]\n",
    "total_rural_drivers = rural_cities.groupby([\"city\"]).max()[\"driver_count\"]\n"
   ]
  },
  {
   "cell_type": "markdown",
   "metadata": {},
   "source": [
    "## Bubble Plot of Ride Sharing Data"
   ]
  },
  {
   "cell_type": "code",
   "execution_count": 86,
   "metadata": {},
   "outputs": [],
   "source": [
    "# Create scatter plots for each city type (this method allows us to create proper legends)\n",
    "\n",
    "plt.scatter(total_urban_rides,\n",
    "            total_urban_fares,\n",
    "            s=total_urban_drivers*20,\n",
    "            c=\"red\", edgecolor=\"white\", \n",
    "            linewidths=1.5, alpha=0.4,\n",
    "            label=\"Urban\", marker=\"o\")\n",
    "\n",
    "plt.scatter(total_suburban_rides,\n",
    "            total_suburban_fares,\n",
    "            s=total_suburban_drivers*20,\n",
    "            c=\"green\", edgecolor=\"white\", \n",
    "            linewidths=1.5, alpha=0.4,\n",
    "            label=\"Suburban\", marker=\"o\")\n",
    "\n",
    "plt.scatter(total_rural_rides,\n",
    "            total_rural_fares,\n",
    "            s=total_rural_drivers*20,\n",
    "            c=\"blue\", edgecolor=\"white\", \n",
    "            linewidths=1.5, alpha=0.4,\n",
    "            label=\"rural\", marker=\"o\")\n",
    "\n",
    "# Incorporate the other graph properties\n",
    "# Add titles and labels\n",
    "plt.grid(True)\n",
    "plt.title(\"Pybar Ride Sharing Data (2016)\")\n",
    "plt.xlabel('Total Number of Rides')\n",
    "plt.ylabel('Average Fare($)')\n",
    "\n",
    "# Create legend \n",
    "lgnd = plt.legend(fontsize=\"small\", mode=\"Expanded\",\n",
    "                 numpoints=1, scatterpoints=1, loc=\"best\",\n",
    "                 title=\"City Types\", labelspacing=0.5)\n",
    "lgnd.legendHandles[0]._sizes = [30]\n",
    "lgnd.legendHandles[1]._sizes = [30]\n",
    "lgnd.legendHandles[2]._sizes = [30]\n",
    "\n",
    "plt.show()"
   ]
  },
  {
   "cell_type": "code",
   "execution_count": 87,
   "metadata": {},
   "outputs": [],
   "source": [
    "# save plot to file\n",
    "plt.savefig(\"../Images/PyberPlot\")"
   ]
  },
  {
   "cell_type": "markdown",
   "metadata": {},
   "source": [
    "## Total Fares by City Type"
   ]
  },
  {
   "cell_type": "code",
   "execution_count": 88,
   "metadata": {},
   "outputs": [],
   "source": [
    "# Calculate Type Percents\n",
    "# Build Pie Chart\n",
    "# Save Figure\n",
    "# Data to plot\n",
    "labels = pdr_df.groupby([\"color\"]).max()[\"type\"]\n",
    "avg_fair_pie = pdr_df.groupby([\"color\"]).sum()[\"fare\"]\n",
    "color_pie = pdr_df.groupby([\"type\"]).max()[\"color\"]\n",
    "explode = (0, 0, 0.1) \n",
    "\n",
    "fig1, ax1 = plt.subplots()\n",
    "ax1.pie(avg_fair_pie, explode=explode, labels=labels, colors=color_pie, autopct='%1.1f%%',\n",
    "        shadow=True, startangle=90)\n",
    "ax1.axis('equal')  # Equal aspect ratio ensures that pie is drawn as a circle.\n",
    "\n",
    "plt.title(\"% Total Fares by City Type\")\n",
    "plt.show()"
   ]
  },
  {
   "cell_type": "code",
   "execution_count": 89,
   "metadata": {},
   "outputs": [],
   "source": [
    "# Save\n",
    "plt.savefig(\"../Images/PiesFare\")"
   ]
  },
  {
   "cell_type": "markdown",
   "metadata": {},
   "source": [
    "## Total Rides by City Type"
   ]
  },
  {
   "cell_type": "code",
   "execution_count": 90,
   "metadata": {},
   "outputs": [],
   "source": [
    "# Calculate Ride Percents\n",
    "labels = pdr_df.groupby([\"color\"]).max()[\"type\"]\n",
    "ttl_rides_pie = pdr_df.groupby([\"color\"]).count()[\"fare\"]\n",
    "color_pie = pdr_df.groupby([\"type\"]).max()[\"color\"]\n",
    "explode = (0, 0, 0.1) \n",
    "\n",
    "fig1, ax1 = plt.subplots()\n",
    "ax1.pie(ttl_rides_pie, explode=explode, labels=labels, colors=color_pie, autopct='%1.1f%%',\n",
    "        shadow=True, startangle=90)\n",
    "ax1.axis('equal')  # Equal aspect ratio ensures that pie is drawn as a circle.\n",
    "plt.title(\"% Total Rides by City Type\")\n",
    "plt.show()\n",
    "# Build Pie Chart\n",
    "\n",
    "# Save Figure\n"
   ]
  },
  {
   "cell_type": "code",
   "execution_count": 91,
   "metadata": {},
   "outputs": [],
   "source": [
    "# Save\n",
    "plt.savefig(\"../Images/PiesTotalRides\")"
   ]
  },
  {
   "cell_type": "markdown",
   "metadata": {},
   "source": [
    "## Total Drivers by City Type"
   ]
  },
  {
   "cell_type": "code",
   "execution_count": 92,
   "metadata": {},
   "outputs": [],
   "source": [
    "# Calculate Driver Percents\n",
    "labels = pdr_df.groupby([\"color\"]).max()[\"type\"]\n",
    "ttl_drivers_pie = pdr_df.groupby([\"color\"]).sum()[\"driver_count\"]\n",
    "color_pie = pdr_df.groupby([\"type\"]).max()[\"color\"]\n",
    "explode = (0, 0, 0.15) \n",
    "\n",
    "fig1, ax1 = plt.subplots()\n",
    "ax1.pie(ttl_drivers_pie, explode=explode, labels=labels, colors=color_pie, autopct='%1.1f%%',\n",
    "        shadow=True, startangle=120)\n",
    "ax1.axis('equal')  # Equal aspect ratio ensures that pie is drawn as a circle.\n",
    "plt.title(\"% Total Drivers by City Type\")\n",
    "plt.show()\n",
    "\n",
    "plt.savefig(\"../Images/PiesTotalDrivers\")"
   ]
  },
  {
   "cell_type": "code",
   "execution_count": 93,
   "metadata": {
    "scrolled": true
   },
   "outputs": [],
   "source": [
    "# Save\n",
    "#plt.savefig(\"../Images/PiesTotalDrivers\")"
   ]
  }
 ],
 "metadata": {
  "anaconda-cloud": {},
  "kernelspec": {
   "display_name": "Python 3",
   "language": "python",
   "name": "python3"
  },
  "language_info": {
   "codemirror_mode": {
    "name": "ipython",
    "version": 3
   },
   "file_extension": ".py",
   "mimetype": "text/x-python",
   "name": "python",
   "nbconvert_exporter": "python",
   "pygments_lexer": "ipython3",
   "version": "3.6.7"
  }
 },
 "nbformat": 4,
 "nbformat_minor": 2
}
